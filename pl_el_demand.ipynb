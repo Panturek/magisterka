{
 "cells": [
  {
   "cell_type": "code",
   "execution_count": null,
   "metadata": {},
   "outputs": [],
   "source": [
    "from desaggregation import *\n",
    "from value_based_solver import *\n",
    "from solver_reporter import *\n",
    "from sklearn import metrics"
   ]
  },
  {
   "cell_type": "markdown",
   "metadata": {},
   "source": [
    "# Data"
   ]
  },
  {
   "cell_type": "code",
   "execution_count": null,
   "metadata": {},
   "outputs": [],
   "source": [
    "data_dir = '../dane'\n",
    "mod_name = '' "
   ]
  },
  {
   "cell_type": "code",
   "execution_count": null,
   "metadata": {},
   "outputs": [],
   "source": [
    "data = pd.read_csv(f'{data_dir}/selected_data{mod_name}.csv').set_index('Year')\n",
    "# data"
   ]
  },
  {
   "cell_type": "code",
   "execution_count": null,
   "metadata": {},
   "outputs": [],
   "source": [
    "cri_forecast = pd.read_csv(f'{data_dir}/pl_forecast{mod_name}.csv').set_index('Year')\n",
    "#cri_forecast"
   ]
  },
  {
   "cell_type": "code",
   "execution_count": null,
   "metadata": {},
   "outputs": [],
   "source": [
    "levels_ranges = pd.read_csv(f'{data_dir}/levels_ranges{mod_name}.csv').set_index('idx')\n",
    "is_gain = levels_ranges.loc['is_gain']\n",
    "cost_criteria = np.where(is_gain < 1.0)[0]\n",
    "\n",
    "levels_ranges = 0.01 * levels_ranges # as percents\n",
    "is_gain"
   ]
  },
  {
   "cell_type": "code",
   "execution_count": null,
   "metadata": {},
   "outputs": [],
   "source": [
    "def split_data(all_data):\n",
    "    __demand_data = all_data['Electricity demand']\n",
    "    __criteria_data = all_data.drop('Electricity demand', axis=1)\n",
    "    return __criteria_data, __demand_data\n",
    "\n",
    "cri_data, dem_data = split_data(data)\n",
    "cri_bnd, dem_bnd = split_data(levels_ranges.iloc[:-1])\n",
    "\n",
    "# cri_data = cri_data.drop(cri_data.columns[-1], axis=1)\n",
    "# cri_bnd = cri_bnd.drop(cri_bnd.columns[-1], axis=1)\n",
    "# cri_forecast = cri_forecast.drop(cri_forecast.columns[-1], axis=1)"
   ]
  },
  {
   "cell_type": "markdown",
   "metadata": {},
   "source": [
    "# Parameters"
   ]
  },
  {
   "cell_type": "markdown",
   "metadata": {},
   "source": [
    "## some useful functions"
   ]
  },
  {
   "cell_type": "code",
   "execution_count": null,
   "metadata": {},
   "outputs": [],
   "source": [
    "_alpha = 5\n",
    "_gamma = 0.01\n",
    "\n",
    "dem_name = 'Zapotrzebowanie el.'\n",
    "cri_names = [\n",
    "\"PKB\",\n",
    "#\"PKB UE\",\n",
    "\"Bezrobocie\",\n",
    "\"Populacja\",\n",
    "\"HDD\",\n",
    "\"CDD\",\n",
    "\"ODEX\",\n",
    "\"Cena węgla kamienego\",\n",
    "\"Cena węgla brunatnego\",\n",
    "\"Cena energii\"\n",
    "]"
   ]
  },
  {
   "cell_type": "code",
   "execution_count": null,
   "metadata": {},
   "outputs": [],
   "source": [
    "def usual_valbas(criteria_data, demand_data, split_year):\n",
    "    global _alpha\n",
    "    global _gamma\n",
    "    global cost_criteria\n",
    "\n",
    "    valbas = Desaggregation(criteria_data, demand_data, split_year)\n",
    "    valbas.alpha  =  _alpha\n",
    "    valbas.alpha_i = _alpha\n",
    "    valbas.gamma  =  _gamma\n",
    "    valbas.gamma_i = _gamma\n",
    "    valbas.cost_criteria = cost_criteria[:-1]\n",
    "    valbas.epsilon = 0.005\n",
    "    \n",
    "    global cri_bnd, dem_bnd\n",
    "    valbas.set_levels(cri_bnd, dem_bnd)\n",
    "\n",
    "    return valbas"
   ]
  },
  {
   "cell_type": "code",
   "execution_count": null,
   "metadata": {},
   "outputs": [],
   "source": [
    "def value_function_formula(solver):\n",
    "    print('Y = ', end='')\n",
    "    for i in range(len(solver.b)):\n",
    "        b = solver.b[i]\n",
    "        print(\"{:0.2f}\".format(b), end='')\n",
    "        print(f\" X_{i+1} + \", end='')"
   ]
  },
  {
   "cell_type": "code",
   "execution_count": null,
   "metadata": {},
   "outputs": [],
   "source": [
    "def get_prediction_errors(y_test, y_pred):\n",
    "    errs = {}\n",
    "    errs['mae'] = np.round(metrics.mean_absolute_error(y_test, y_pred), 3)\n",
    "    errs['mape'] = np.round(metrics.mean_absolute_percentage_error(y_test, y_pred), 3)\n",
    "    errs['rmse'] = np.round(metrics.mean_squared_error(y_test, y_pred, squared=False), 3)\n",
    "#    errs['r2'] = np.round(metrics.r2_score(y_test, y_pred), 3)\n",
    "    return errs"
   ]
  },
  {
   "cell_type": "code",
   "execution_count": null,
   "metadata": {},
   "outputs": [],
   "source": [
    "def get_marginal_value_functions(xs):\n",
    "    mar_val_fcs =[]\n",
    "    for i in range(solver._m.num_cri):\n",
    "        mar_val_fcs.append([xs[i, k] for k in range(solver._m.alpha_i)])\n",
    "    return mar_val_fcs\n",
    "\n",
    "def marginal_X( lvls, mar_val, x ):\n",
    "    arg = np.where(lvls < x )[0]\n",
    "    if len(arg)==0 or arg[-1] == len(lvls)-1:\n",
    "        return mar_val[-1]\n",
    "    _ar = arg[-1]\n",
    "    a1 = mar_val[_ar]\n",
    "    a2 = mar_val[_ar+1]\n",
    "    a1 = 1 if a1 == 0 else a1\n",
    "    return a2/a1 * (x - lvls[_ar])\n",
    "\n",
    "def predict_changes(model, weights):\n",
    "    n = model.num_cri\n",
    "    X_pct = model.criteria_test.pct_change().dropna().to_numpy()\n",
    "    preds = []\n",
    "    for Xj in X_pct:\n",
    "        preds.append( np.dot(weights, Xj) )\n",
    "    return preds\n",
    "\n",
    "def predict_values(begining, pred_pct):\n",
    "    y_pred = [begining]\n",
    "    for i in range(len(pred_pct)):\n",
    "        y_pred.append(y_pred[-1] * (1 + pred_pct[i]))\n",
    "    return y_pred[1:]\n"
   ]
  },
  {
   "cell_type": "code",
   "execution_count": null,
   "metadata": {},
   "outputs": [],
   "source": [
    "# cri_data = cri_data.drop(columns=['CDD', 'HDD'])\n",
    "# cri_forecast = cri_forecast.drop(columns=['CDD', 'HDD'])\n",
    "\n",
    "# cri_bnd.drop(columns=['CDD', 'HDD'])\n",
    "# cri_names = cri_names[:3] + cri_names[5:]"
   ]
  },
  {
   "cell_type": "markdown",
   "metadata": {},
   "source": [
    "# Experiments\n",
    "## learning on data from 1999 - 2014; test 2015 - 2020"
   ]
  },
  {
   "cell_type": "code",
   "execution_count": null,
   "metadata": {},
   "outputs": [],
   "source": [
    "valbas = usual_valbas(cri_data , dem_data, split_year=2015)"
   ]
  },
  {
   "cell_type": "code",
   "execution_count": null,
   "metadata": {},
   "outputs": [],
   "source": [
    "solver = ValueBasedSolver(valbas)\n",
    "solver.solve()"
   ]
  },
  {
   "cell_type": "code",
   "execution_count": null,
   "metadata": {},
   "outputs": [],
   "source": [
    "reporter = ValueBasedSolverReporter(solver, dem_name, cri_names, f'train{mod_name}')\n",
    "reporter.report()"
   ]
  },
  {
   "cell_type": "markdown",
   "metadata": {},
   "source": [
    "### Post optimization robustness analysis"
   ]
  },
  {
   "cell_type": "code",
   "execution_count": null,
   "metadata": {},
   "outputs": [],
   "source": [
    "for i in range(valbas.num_cri):\n",
    "    for K in range(1, valbas.alpha_i):\n",
    "        solver.solve(postOptimize = (\"min\", i, K))\n",
    "        solver.solve(postOptimize = (\"max\", i, K))\n",
    "\n",
    "reporter.plot_post_opt()"
   ]
  },
  {
   "cell_type": "code",
   "execution_count": null,
   "metadata": {},
   "outputs": [],
   "source": [
    "value_function_formula(solver)\n",
    "valbas.cost_criteria"
   ]
  },
  {
   "cell_type": "markdown",
   "metadata": {},
   "source": [
    "## Prediction on testing set"
   ]
  },
  {
   "cell_type": "code",
   "execution_count": null,
   "metadata": {},
   "outputs": [],
   "source": [
    "y_test = valbas.demand_test.iloc[1:]\n",
    "\n",
    "weights = solver.b\n",
    "pred_pct = predict_changes(valbas, weights)\n",
    "y_pred = predict_values(valbas.demand.iloc[-1], pred_pct)\n",
    "\n",
    "print(pred_pct)\n",
    "print(y_pred)\n",
    "\n",
    "#print(pd.DataFrame(np.array([np.trunc(y_pred), list(y_test)])).set_index(y_test.index))\n",
    "\n",
    "e = get_prediction_errors(y_test, y_pred)\n",
    "print(f'MAE & ', e['mae'], '\\\\\\\\ ')\n",
    "print(f'MAPE & ', e['mape'], '\\\\\\\\ ')\n",
    "print(f'RMSE & ', e['rmse'], '\\\\\\\\ ')"
   ]
  },
  {
   "cell_type": "code",
   "execution_count": null,
   "metadata": {},
   "outputs": [],
   "source": [
    "reporter.plot_predictions(y_pred)"
   ]
  },
  {
   "cell_type": "code",
   "execution_count": null,
   "metadata": {},
   "outputs": [],
   "source": [
    "b_min, b_mean, b_max = solver.get_postopt_b()\n",
    "x_min, x_mean, x_max = solver.get_postopt_x()\n",
    "\n",
    "pct_min = predict_changes(valbas, b_min)\n",
    "pct_mean = predict_changes(valbas, b_mean)\n",
    "pct_max = predict_changes(valbas, b_max)\n",
    "\n",
    "y_pred_min = predict_values(valbas.demand.iloc[-1], pct_min)\n",
    "y_pred_mean = predict_values(valbas.demand.iloc[-1], pct_mean)\n",
    "y_pred_max = predict_values(valbas.demand.iloc[-1], pct_max)\n",
    "\n",
    "min_e = get_prediction_errors(y_test, y_pred_min)\n",
    "mean_e = get_prediction_errors(y_test, y_pred_mean)\n",
    "max_e = get_prediction_errors(y_test, y_pred_max)\n",
    "\n",
    "for err in ['mae', 'mape', 'rmse']:\n",
    "    print(err.upper(), '&', min_e[err],'&', mean_e[err],'&', max_e[err], '\\\\\\\\')\n",
    "\n",
    "reporter.plot_predictions_and_postopt(y_pred, y_pred_min, y_pred_mean, y_pred_max)"
   ]
  },
  {
   "cell_type": "markdown",
   "metadata": {},
   "source": [
    "# Prediction"
   ]
  },
  {
   "cell_type": "code",
   "execution_count": null,
   "metadata": {},
   "outputs": [],
   "source": [
    "pred_cri_data = pd.concat([cri_data, cri_forecast]) \n",
    "pred_dem_data = dem_data.reindex(pred_cri_data.index)\n",
    "pred_valbas = usual_valbas(pred_cri_data, pred_dem_data, 2020)\n",
    "\n",
    "solver = ValueBasedSolver(pred_valbas)\n",
    "solver.solve()"
   ]
  },
  {
   "cell_type": "code",
   "execution_count": null,
   "metadata": {},
   "outputs": [],
   "source": [
    "pred_cri_data.shape"
   ]
  },
  {
   "cell_type": "code",
   "execution_count": null,
   "metadata": {},
   "outputs": [],
   "source": [
    "reporter = ValueBasedSolverReporter(solver, dem_name, cri_names, f\"predict{mod_name}\")\n",
    "reporter.report()\n"
   ]
  },
  {
   "cell_type": "code",
   "execution_count": null,
   "metadata": {},
   "outputs": [],
   "source": [
    "for i in range(valbas.num_cri):\n",
    "    for K in range(1, valbas.alpha_i):\n",
    "        solver.solve(postOptimize = (\"min\", i, K))\n",
    "        solver.solve(postOptimize = (\"max\", i, K))\n",
    "\n",
    "reporter.plot_post_opt()"
   ]
  },
  {
   "cell_type": "code",
   "execution_count": null,
   "metadata": {},
   "outputs": [],
   "source": [
    "value_function_formula(solver)"
   ]
  },
  {
   "cell_type": "markdown",
   "metadata": {},
   "source": [
    "## forecasts"
   ]
  },
  {
   "cell_type": "code",
   "execution_count": null,
   "metadata": {},
   "outputs": [],
   "source": [
    "pred_pct = predict_changes(pred_valbas, solver.b)\n",
    "y_pred = predict_values(dem_data.iloc[-1], pred_pct)\n",
    "\n",
    "b_min, b_mean, b_max = solver.get_postopt_b()\n",
    "x_min, x_mean, x_max = solver.get_postopt_x()\n",
    "\n",
    "pct_min = predict_changes(pred_valbas, b_min)\n",
    "pct_mean = predict_changes(pred_valbas, b_mean)\n",
    "pct_max = predict_changes(pred_valbas, b_max)\n",
    "\n",
    "y_pred_min = predict_values(dem_data.iloc[-1], pct_min)\n",
    "y_pred_mean = predict_values(dem_data.iloc[-1], pct_mean)\n",
    "y_pred_max = predict_values(dem_data.iloc[-1], pct_max)\n",
    "\n",
    "reporter.plot_predictions_and_postopt( y_pred, y_pred_min, y_pred_mean, y_pred_max)"
   ]
  },
  {
   "cell_type": "code",
   "execution_count": null,
   "metadata": {},
   "outputs": [],
   "source": []
  }
 ],
 "metadata": {
  "interpreter": {
   "hash": "744d8c428331df700d58f037faf5c86adc063963de296b75cdafb750305f6a91"
  },
  "kernelspec": {
   "display_name": "Python 3.7.10 64-bit ('base': conda)",
   "name": "python3"
  },
  "language_info": {
   "codemirror_mode": {
    "name": "ipython",
    "version": 3
   },
   "file_extension": ".py",
   "mimetype": "text/x-python",
   "name": "python",
   "nbconvert_exporter": "python",
   "pygments_lexer": "ipython3",
   "version": "3.7.10"
  }
 },
 "nbformat": 4,
 "nbformat_minor": 4
}
